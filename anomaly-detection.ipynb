{
 "cells": [
  {
   "cell_type": "code",
   "execution_count": null,
   "metadata": {},
   "outputs": [],
   "source": [
    "%pip install pandas\n",
    "%pip install numpy\n",
    "%pip install sklearn\n",
    "%pip install matplotlib"
   ]
  },
  {
   "cell_type": "code",
   "execution_count": null,
   "metadata": {},
   "outputs": [],
   "source": [
    "import pandas as pd\n",
    "import numpy as np\n",
    "from sklearn.preprocessing import StandardScaler\n",
    "from sklearn.svm import OneClassSVM\n",
    "from sklearn.metrics import precision_score, recall_score, f1_score\n",
    "import matplotlib.pyplot as plt"
   ]
  },
  {
   "cell_type": "code",
   "execution_count": null,
   "metadata": {},
   "outputs": [],
   "source": [
    "data = pd.read_csv('data/out.csv')\n",
    "\n",
    "data = data.drop('Year', axis=1)\n",
    "data = data.drop('Country', axis=1)"
   ]
  },
  {
   "cell_type": "code",
   "execution_count": null,
   "metadata": {},
   "outputs": [],
   "source": [
    "train_size = int(0.3 * len(data))\n",
    "train_data = data[:train_size]\n",
    "val_data = data[train_size:]"
   ]
  },
  {
   "cell_type": "code",
   "execution_count": null,
   "metadata": {},
   "outputs": [],
   "source": [
    "svm = OneClassSVM(kernel='rbf', gamma='scale', nu=0.05)\n",
    "svm.fit(train_data)"
   ]
  },
  {
   "cell_type": "code",
   "execution_count": null,
   "metadata": {},
   "outputs": [],
   "source": [
    "val_predictions = svm.predict(val_data)\n",
    "val_labels = np.ones(len(val_data))\n",
    "val_labels[val_predictions == -1] = 0  # Anomalies are labeled as -1\n",
    "\n",
    "if np.sum(val_labels == 1) == 0 or np.sum(val_predictions == 1) == 0:\n",
    "    # If there are no true positives or false positives, set precision and recall to 0\n",
    "    precision = 0\n",
    "    recall = 0\n",
    "    f1 = 0\n",
    "else:\n",
    "    precision = precision_score(val_labels, val_predictions, average='weighted')\n",
    "    recall = recall_score(val_labels, val_predictions, average='weighted')\n",
    "    f1 = f1_score(val_labels, val_predictions, average='weighted')\n",
    "\n",
    "\n",
    "print(f'Precision: {precision:.3f}, Recall: {recall:.3f}, F1-score: {f1:.3f}')"
   ]
  },
  {
   "cell_type": "code",
   "execution_count": null,
   "metadata": {},
   "outputs": [],
   "source": [
    "plt.figure(figsize=(12, 6))\n",
    "plt.scatter(data.index, data['Homicide Rate'], label='Normal', s=10)\n",
    "anomaly_mask = (val_predictions == -1)\n",
    "anomaly_data = val_data.loc[anomaly_mask]\n",
    "plt.scatter(anomaly_data.index, anomaly_data['Homicide Rate'], label='Anomaly', s=50, color='red')\n",
    "plt.title('One-class SVM Anomaly Detection')\n",
    "plt.xlabel('Sample Index')\n",
    "plt.ylabel('Homicide Rate')\n",
    "plt.legend()\n",
    "plt.show()"
   ]
  }
 ],
 "metadata": {
  "kernelspec": {
   "display_name": "Python 3",
   "language": "python",
   "name": "python3"
  },
  "language_info": {
   "codemirror_mode": {
    "name": "ipython",
    "version": 3
   },
   "file_extension": ".py",
   "mimetype": "text/x-python",
   "name": "python",
   "nbconvert_exporter": "python",
   "pygments_lexer": "ipython3",
   "version": "3.9.7"
  },
  "orig_nbformat": 4
 },
 "nbformat": 4,
 "nbformat_minor": 2
}
