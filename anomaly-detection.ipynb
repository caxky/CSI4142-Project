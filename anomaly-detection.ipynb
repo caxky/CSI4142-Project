{
 "cells": [
  {
   "cell_type": "code",
   "execution_count": null,
   "metadata": {},
   "outputs": [],
   "source": [
    "%pip install pandas\n",
    "%pip install numpy\n",
    "%pip install sklearn\n",
    "%pip install matplotlib"
   ]
  },
  {
   "cell_type": "code",
   "execution_count": null,
   "metadata": {},
   "outputs": [],
   "source": [
    "import pandas as pd\n",
    "import numpy as np\n",
    "from sklearn.preprocessing import StandardScaler\n",
    "from sklearn.svm import OneClassSVM\n",
    "from sklearn.metrics import precision_score, recall_score, f1_score\n",
    "import matplotlib.pyplot as plt"
   ]
  },
  {
   "cell_type": "code",
   "execution_count": null,
   "metadata": {},
   "outputs": [],
   "source": [
    "data = pd.read_csv('data/out.csv')\n",
    "\n",
    "# Drop columns that are not needed\n",
    "data = data.drop('Year', axis=1)\n",
    "data = data.drop('Country', axis=1)"
   ]
  },
  {
   "cell_type": "code",
   "execution_count": null,
   "metadata": {},
   "outputs": [],
   "source": [
    "# Normalize data\n",
    "scaler = StandardScaler()\n",
    "data_scaled = scaler.fit_transform(data)"
   ]
  },
  {
   "cell_type": "code",
   "execution_count": null,
   "metadata": {},
   "outputs": [],
   "source": [
    "# Split data into train and validation, using a ratio of 60:40\n",
    "train_size = int(0.6 * len(data_scaled))\n",
    "train_data = data_scaled[:train_size]\n",
    "val_data = data_scaled[train_size:]"
   ]
  },
  {
   "cell_type": "code",
   "execution_count": null,
   "metadata": {},
   "outputs": [],
   "source": [
    "# Initialize and train the model on our training data\n",
    "# Parameters determined by trial and error\n",
    "svm = OneClassSVM(kernel='rbf', gamma='scale', nu=0.05)\n",
    "svm.fit(train_data)"
   ]
  },
  {
   "cell_type": "code",
   "execution_count": null,
   "metadata": {},
   "outputs": [],
   "source": [
    "# Predict anomalies on validation data\n",
    "val_predictions = svm.predict(val_data)\n",
    "val_labels = np.ones(len(val_data))\n",
    "val_labels[val_predictions == -1] = 0  # Anomalies are labeled as -1\n",
    "\n",
    "# Calculate precision, recall and F1-score\n",
    "precision = precision_score(val_labels, val_predictions, average='weighted')\n",
    "recall = recall_score(val_labels, val_predictions, average='weighted')\n",
    "f1 = f1_score(val_labels, val_predictions, average='weighted')\n",
    "\n",
    "# Print results\n",
    "print(f'Precision: {precision:.3f}, Recall: {recall:.3f}, F1-score: {f1:.3f}')"
   ]
  },
  {
   "attachments": {},
   "cell_type": "markdown",
   "metadata": {},
   "source": [
    "### Display Anomalies From Different Columns"
   ]
  },
  {
   "cell_type": "code",
   "execution_count": null,
   "metadata": {},
   "outputs": [],
   "source": [
    "# Anomalies in homicide per capita\n",
    "plt.figure(figsize=(12, 6))\n",
    "plt.scatter(data.index, data['Homicide per capita'], label='Normal', s=10)\n",
    "plt.scatter(np.where(val_predictions==-1)[0] + train_size, val_data[val_predictions == -1, 0], label='Anomaly', s=50, color='red')\n",
    "plt.title('Anomaly Detection - Homicide per Capita')\n",
    "plt.xlabel('Sample Index')\n",
    "plt.ylabel('Homicide per Capita')\n",
    "plt.legend()\n",
    "plt.show()"
   ]
  },
  {
   "cell_type": "code",
   "execution_count": null,
   "metadata": {},
   "outputs": [],
   "source": [
    "# Anomalies in total emissions\n",
    "plt.figure(figsize=(12, 6))\n",
    "plt.scatter(data.index, data['Total Emissions'], label='Normal', s=10)\n",
    "plt.scatter(np.where(val_predictions==-1)[0] + train_size, val_data[val_predictions == -1, 0], label='Anomaly', s=50, color='red')\n",
    "plt.title('Anomaly Detection - Total Emissions')\n",
    "plt.xlabel('Sample Index')\n",
    "plt.ylabel('Total Emissions')\n",
    "plt.legend()\n",
    "plt.show()"
   ]
  },
  {
   "cell_type": "code",
   "execution_count": null,
   "metadata": {},
   "outputs": [],
   "source": [
    "# Anomalies in energy production to consumption\n",
    "plt.figure(figsize=(12, 6))\n",
    "plt.scatter(data.index, data['Energy Production to Consumption'], label='Normal', s=10)\n",
    "plt.scatter(np.where(val_predictions==-1)[0] + train_size, val_data[val_predictions == -1, 0], label='Anomaly', s=50, color='red')\n",
    "plt.title('Anomaly Detection - Energy Production to Consumption')\n",
    "plt.xlabel('Sample Index')\n",
    "plt.ylabel('Energy Production to Consumption')\n",
    "plt.legend()\n",
    "plt.show()"
   ]
  }
 ],
 "metadata": {
  "kernelspec": {
   "display_name": "Python 3",
   "language": "python",
   "name": "python3"
  },
  "language_info": {
   "codemirror_mode": {
    "name": "ipython",
    "version": 3
   },
   "file_extension": ".py",
   "mimetype": "text/x-python",
   "name": "python",
   "nbconvert_exporter": "python",
   "pygments_lexer": "ipython3",
   "version": "3.10.10"
  },
  "orig_nbformat": 4
 },
 "nbformat": 4,
 "nbformat_minor": 2
}
