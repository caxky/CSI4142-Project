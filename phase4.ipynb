{
 "cells": [
  {
   "cell_type": "code",
   "execution_count": null,
   "id": "6f6db077-8a72-4b01-9759-78e30876affd",
   "metadata": {
    "tags": []
   },
   "outputs": [],
   "source": [
    "!pip3 install -U scikit-learn"
   ]
  },
  {
   "cell_type": "code",
   "execution_count": null,
   "id": "9a5c062b-4f83-4750-a823-2bbbf9034209",
   "metadata": {
    "tags": []
   },
   "outputs": [],
   "source": [
    "import pandas as pd\n",
    "import numpy as np\n",
    "\n",
    "#Import Sci-Kit Learn elements\n",
    "from sklearn import svm\n",
    "from sklearn.metrics import classification_report\n",
    "from sklearn.preprocessing import LabelEncoder as le, StandardScaler\n",
    "from sklearn.model_selection import train_test_split as tts # for splitting data in to sections\n",
    "\n",
    "from sklearn.tree import DecisionTreeClassifier\n",
    "from sklearn.ensemble import GradientBoostingClassifier\n",
    "from sklearn.ensemble import RandomForestClassifier\n",
    "from sklearn.metrics import classification_report"
   ]
  },
  {
   "cell_type": "code",
   "execution_count": null,
   "id": "8bca9a2c-22ea-4847-984f-2b86aa144bc5",
   "metadata": {},
   "outputs": [],
   "source": [
    "df = pd.read_csv(\"out.csv\")"
   ]
  },
  {
   "cell_type": "code",
   "execution_count": null,
   "id": "eff40453-9b13-410e-80d8-a281c74044c5",
   "metadata": {
    "tags": []
   },
   "outputs": [],
   "source": [
    "#Label encoding changes country names into integer codes \n",
    "labelEnc = le()\n",
    "df['Country'] = labelEnc.fit_transform(df['Country']) \n",
    "df"
   ]
  },
  {
   "cell_type": "code",
   "execution_count": null,
   "id": "39994326-0d77-492a-8873-a62f2b1e8988",
   "metadata": {
    "jupyter": {
     "source_hidden": true
    },
    "tags": []
   },
   "outputs": [],
   "source": [
    "from sklearn.preprocessing import KBinsDiscretizer\n",
    "pd.options.mode.chained_assignment = None #stop unneeded warning\n",
    "\n",
    "discretizer = KBinsDiscretizer(n_bins = 100, encode='ordinal', strategy='kmeans') #k-means clustering to group\n",
    "\n",
    "#Values to Bin\n",
    "values = df[['Homicide Rate', 'Total Emissions', 'Coal', 'Oil',\n",
    "       'Gas', 'Cement', 'Flaring', 'Emissions Per Capita', 'GDP per capita',\n",
    "       'Population', 'Energy Consumption Coal', 'Energy Consumption Gas',\n",
    "       'Energy Consumption Oil', 'Energy Consumption Other',\n",
    "       'Energy Consumption Total', 'Energy Production Coal',\n",
    "       'Energy Production Gas', 'Energy Production Oil',\n",
    "       'Energy Production Other', 'Energy Production Total',\n",
    "       'Homicide per capita', 'Homicide per emissions', 'GDP',\n",
    "       'Energy Production to Consumption']]\n",
    "\n",
    "#Output of Binning\n",
    "output = discretizer.fit_transform(values)\n",
    "values = pd.DataFrame(output, columns=['Homicide Rate', 'Total Emissions', 'Coal', 'Oil',\n",
    "       'Gas', 'Cement', 'Flaring', 'Emissions Per Capita', 'GDP per capita',\n",
    "       'Population', 'Energy Consumption Coal', 'Energy Consumption Gas',\n",
    "       'Energy Consumption Oil', 'Energy Consumption Other',\n",
    "       'Energy Consumption Total', 'Energy Production Coal',\n",
    "       'Energy Production Gas', 'Energy Production Oil',\n",
    "       'Energy Production Other', 'Energy Production Total',\n",
    "       'Homicide per capita', 'Homicide per emissions', 'GDP',\n",
    "       'Energy Production to Consumption'])\n",
    "\n",
    "df.drop(['Homicide Rate', 'Total Emissions', 'Coal', 'Oil',\n",
    "       'Gas', 'Cement', 'Flaring', 'Emissions Per Capita', 'GDP per capita',\n",
    "       'Population', 'Energy Consumption Coal', 'Energy Consumption Gas',\n",
    "       'Energy Consumption Oil', 'Energy Consumption Other',\n",
    "       'Energy Consumption Total', 'Energy Production Coal',\n",
    "       'Energy Production Gas', 'Energy Production Oil',\n",
    "       'Energy Production Other', 'Energy Production Total',\n",
    "       'Homicide per capita', 'Homicide per emissions', 'GDP',\n",
    "       'Energy Production to Consumption'], axis='columns', inplace=True) #drop the original columns\n",
    "\n",
    "df = pd.concat([values, df], axis=\"columns\") #add our new discretized columns\n",
    "df"
   ]
  },
  {
   "cell_type": "code",
   "execution_count": null,
   "id": "95ecf4ea-7afa-4403-a24c-e1da45ac5859",
   "metadata": {
    "tags": []
   },
   "outputs": [],
   "source": [
    "X = df.drop('Total Emissions', axis=1)\n",
    "y = df['Total Emissions']"
   ]
  },
  {
   "cell_type": "code",
   "execution_count": null,
   "id": "a1d54f63-9959-49cb-a0c5-31d2372f0283",
   "metadata": {
    "tags": []
   },
   "outputs": [],
   "source": [
    "X_train, X_test, y_train, y_test = tts(X, y, test_size=0.33)"
   ]
  },
  {
   "cell_type": "markdown",
   "id": "290254c7-4da1-4b87-9bd2-1453f6be7ce4",
   "metadata": {
    "tags": []
   },
   "source": [
    "Decision Tree Classifier"
   ]
  },
  {
   "cell_type": "code",
   "execution_count": null,
   "id": "f225787f-df07-4039-b5b5-9fa0492d64e8",
   "metadata": {
    "tags": []
   },
   "outputs": [],
   "source": [
    "dtc = DecisionTreeClassifier()\n",
    "dtc = dtc.fit(X_train, y_train)"
   ]
  },
  {
   "cell_type": "code",
   "execution_count": null,
   "id": "39b331ef-52d7-4e3f-900b-cc61e8ee96b3",
   "metadata": {
    "tags": []
   },
   "outputs": [],
   "source": [
    "score = dtc.score(X_test, y_test) #scoring model performance\n",
    "print(score)\n",
    "\n",
    "p = dtc.predict(X_test) \n",
    "cr = classification_report(y_test, p, zero_division=1)\n",
    "print(cr)"
   ]
  },
  {
   "cell_type": "markdown",
   "id": "0857d4e4-c244-4244-b7e5-6753a3d946fb",
   "metadata": {},
   "source": [
    "Gradient Boosting Classifier"
   ]
  },
  {
   "cell_type": "code",
   "execution_count": null,
   "id": "fab50c10-bdf2-4d8a-b4f6-44510f456056",
   "metadata": {
    "tags": []
   },
   "outputs": [],
   "source": [
    "gbc = GradientBoostingClassifier()\n",
    "gbc = gbc.fit(X_train, y_train)"
   ]
  },
  {
   "cell_type": "code",
   "execution_count": null,
   "id": "022a63a6-2343-4388-bf49-eda816035b3b",
   "metadata": {
    "tags": []
   },
   "outputs": [],
   "source": [
    "score = gbc.score(X_test, y_test) #scoring model performance\n",
    "print(score)\n",
    "\n",
    "p = gbc.predict(X_test) \n",
    "cr = classification_report(y_test, p, zero_division=1)\n",
    "print(cr)"
   ]
  },
  {
   "cell_type": "markdown",
   "id": "ccfe6a00-d345-4da8-8f81-774e4cfc7fd8",
   "metadata": {},
   "source": [
    "Random Forest Classifier"
   ]
  },
  {
   "cell_type": "code",
   "execution_count": null,
   "id": "6aeaeaa9-dd04-4dc2-b603-69dc72961e89",
   "metadata": {
    "tags": []
   },
   "outputs": [],
   "source": [
    "rfc = RandomForestClassifier()\n",
    "rfc = rfc.fit(X_train, y_train)"
   ]
  },
  {
   "cell_type": "code",
   "execution_count": null,
   "id": "65e71c3c-2729-4e68-8c28-54e5e8deb7f0",
   "metadata": {
    "tags": []
   },
   "outputs": [],
   "source": [
    "score = rfc.score(X_test, y_test) #scoring model performance\n",
    "print(score)\n",
    "\n",
    "p = rfc.predict(X_test) \n",
    "cr = classification_report(y_test, p, zero_division=1)\n",
    "print(cr)"
   ]
  }
 ],
 "metadata": {
  "kernelspec": {
   "display_name": "Python 3 (ipykernel)",
   "language": "python",
   "name": "python3"
  },
  "language_info": {
   "codemirror_mode": {
    "name": "ipython",
    "version": 3
   },
   "file_extension": ".py",
   "mimetype": "text/x-python",
   "name": "python",
   "nbconvert_exporter": "python",
   "pygments_lexer": "ipython3",
   "version": "3.9.6"
  }
 },
 "nbformat": 4,
 "nbformat_minor": 5
}
