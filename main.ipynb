{
 "cells": [
  {
   "cell_type": "code",
   "execution_count": null,
   "metadata": {},
   "outputs": [],
   "source": [
    "%pip install pandas\n",
    "%pip install numpy"
   ]
  },
  {
   "cell_type": "code",
   "execution_count": null,
   "metadata": {
    "tags": []
   },
   "outputs": [],
   "source": [
    "import pandas as pd\n",
    "import numpy as np"
   ]
  },
  {
   "cell_type": "code",
   "execution_count": null,
   "metadata": {
    "tags": []
   },
   "outputs": [],
   "source": [
    "# read all data\n",
    "ph = pd.read_csv('data/share-of-deaths-homicides.csv') # homicides\n",
    "emis = pd.read_csv('data/GCB2022v27_MtCO2_flat.csv') # emissions\n",
    "gdp = pd.read_csv('data/gdp.csv') # gdp\n",
    "pop = pd.read_csv('data/population.csv') # population\n",
    "ener = pd.read_csv('data/energy.csv') # energy\n"
   ]
  },
  {
   "cell_type": "code",
   "execution_count": null,
   "metadata": {
    "tags": []
   },
   "outputs": [],
   "source": [
    "# standardize the column names\n",
    "ph.rename(columns={'Entity' : 'Country'}, inplace=True)\n",
    "ph.rename(columns={'Deaths - Interpersonal violence - Sex: Both - Age: All Ages (Percent)' : 'Homicide Rate'}, inplace=True)\n",
    "\n",
    "gdp.rename(columns={'Country Name' : 'Country'}, inplace=True)\n",
    "\n",
    "pop.rename(columns={'Country Name' : 'Country'}, inplace=True) \n",
    "\n",
    "emis.rename(columns={'Total' : 'Total Emissions'}, inplace=True)\n",
    "emis.rename(columns={'Per Capita' : 'Emissions Per Capita'}, inplace=True)\n",
    "\n",
    "ener.rename(columns={'Energy_consumption' : 'Energy Consumption'}, inplace=True)\n",
    "ener.rename(columns={'Energy_production' : 'Energy Production'}, inplace=True)"
   ]
  },
  {
   "cell_type": "code",
   "execution_count": null,
   "metadata": {
    "tags": []
   },
   "outputs": [],
   "source": [
    "# drop unwanted columns\n",
    "emis = emis.drop(columns = ['Other'])\n",
    "emis = emis.drop(columns=['ISO 3166-1 alpha-3'])\n",
    "\n",
    "ph = ph.drop(columns=['Code'])\n",
    "\n",
    "gdp = gdp.drop(columns=['Country Code', 'Indicator Name', 'Indicator Code'])\n",
    "\n",
    "ener = ener.drop(columns=['GDP', 'Population', 'Energy_intensity_per_capita', 'Energy_intensity_by_GDP', 'CO2_emission'])"
   ]
  },
  {
   "cell_type": "code",
   "execution_count": null,
   "metadata": {
    "tags": []
   },
   "outputs": [],
   "source": [
    "# debucketizing gdp\n",
    "melted_gdp = gdp.melt(id_vars=['Country'], var_name=\"Year\", value_name='GDP per capita')\n",
    "melted_gdp = melted_gdp.sort_values([\"Country\",\"Year\"])\n",
    "melted_gdp = melted_gdp.reset_index(drop=True)\n",
    "melted_gdp['Year'] = melted_gdp['Year'].astype(int)\n",
    "melted_gdp['GDP per capita'] = melted_gdp['GDP per capita'].replace(np.nan,0)\n",
    "\n",
    "# debucketizing population\n",
    "melted_pop = pop.melt(id_vars=['Country'], var_name=\"Year\", value_name='Population')\n",
    "melted_pop = melted_pop.sort_values([\"Country\",\"Year\"])\n",
    "melted_pop = melted_pop.reset_index(drop=True)\n",
    "melted_pop['Year'] = melted_pop['Year'].astype(int)\n",
    "melted_pop['Population'] = melted_pop['Population'].replace(np.nan,0)\n",
    "\n"
   ]
  },
  {
   "cell_type": "code",
   "execution_count": null,
   "metadata": {
    "tags": []
   },
   "outputs": [],
   "source": [
    "# drop rows with year < 1990 and year > 2019\n",
    "emis = emis[emis['Year'] >= 1990]\n",
    "emis = emis[emis['Year'] <= 2019]\n",
    "\n",
    "gdp = melted_gdp[melted_gdp['Year'] >= 1990]\n",
    "gdp = melted_gdp[melted_gdp['Year'] <= 2019]\n",
    "\n",
    "pop = melted_pop[melted_pop['Year'] >= 1990]\n",
    "pop = melted_pop[melted_pop['Year'] <= 2019]\n",
    "\n",
    "ener = ener[ener['Year'] >= 1990]\n",
    "ener = ener[ener['Year'] <= 2019]"
   ]
  },
  {
   "cell_type": "code",
   "execution_count": null,
   "metadata": {
    "tags": []
   },
   "outputs": [],
   "source": [
    "# remove NaN values\n",
    "emis.isnull().sum()\n",
    "\n",
    "c = emis.groupby('Country')\n",
    "\n",
    "c.apply(lambda x: x.isnull().sum())\n"
   ]
  },
  {
   "cell_type": "code",
   "execution_count": null,
   "metadata": {
    "tags": []
   },
   "outputs": [],
   "source": [
    "# set year column as index\n",
    "emis.set_index('Year', inplace=True)\n",
    "\n",
    "# fill missing values with previous and forward 5-year averages\n",
    "emis.fillna(emis.rolling(window=11, min_periods=1).mean().shift(1).fillna(method='bfill'), inplace=True)\n",
    "\n",
    "# reset index\n",
    "emis.reset_index(inplace=True)\n",
    "\n",
    "emis.isnull().sum()"
   ]
  },
  {
   "cell_type": "code",
   "execution_count": null,
   "metadata": {},
   "outputs": [],
   "source": [
    "# replacing nan values with 0\n",
    "ener['Energy Consumption'] = ener['Energy Consumption'].replace(np.nan,0)\n",
    "ener['Energy Production'] = ener['Energy Production'].replace(np.nan,0)\n",
    "\n",
    "# standardize row values under energy type and country\n",
    "ener.replace('all_energy_types', 'Total', inplace=True)\n",
    "ener.replace('coal', 'Coal', inplace=True)\n",
    "ener.replace('petroleum_n_other_liquids', 'Oil', inplace=True)\n",
    "ener.replace('natural_gas', 'Gas', inplace=True)\n",
    "ener.replace('renewables_n_other', 'Other', inplace=True)\n",
    "ener.replace('World', 'Global', inplace=True)\n",
    "\n",
    "# pivot the energy table\n",
    "ener_pivot = ener.pivot_table(index=['Country', 'Year'], columns='Energy_type', values=['Energy Consumption', 'Energy Production'])\n",
    "\n",
    "# flatten the column names\n",
    "ener_pivot.columns = [' '.join(col).strip() for col in ener_pivot.columns.values]\n",
    "\n",
    "# drop nuclear energy (not relevant to our selected data)\n",
    "ener_pivot['Energy Production Total'] = ener_pivot['Energy Production Total'] - ener_pivot['Energy Production nuclear']\n",
    "ener_pivot['Energy Consumption Total'] = ener_pivot['Energy Consumption Total'] - ener_pivot['Energy Consumption nuclear']\n",
    "ener_pivot = ener_pivot.drop(columns=['Energy Consumption nuclear', 'Energy Production nuclear'])\n",
    "\n",
    "ener_pivot[:10]"
   ]
  },
  {
   "cell_type": "code",
   "execution_count": null,
   "metadata": {
    "tags": []
   },
   "outputs": [],
   "source": [
    "# merging tables into one table for exporting\n",
    "merged = pd.merge(ph, emis, how='inner', on=['Country', 'Year'])\n",
    "merged = pd.merge(merged, gdp, how=\"left\", on=['Country','Year'])\n",
    "merged = pd.merge(merged, pop, how='left', on=['Country','Year'])\n",
    "merged = pd.merge(merged, ener_pivot, how='left', on=['Country','Year'])\n"
   ]
  },
  {
   "cell_type": "code",
   "execution_count": null,
   "metadata": {
    "tags": []
   },
   "outputs": [],
   "source": [
    "# checking for duplicates\n",
    "duplicates = merged.duplicated(subset=['Country', 'Year'], keep=False)\n",
    "\n",
    "# print resulting dataframe\n",
    "# if there are no duplicates, the dataframe will be empty\n",
    "print(merged[duplicates])"
   ]
  },
  {
   "cell_type": "code",
   "execution_count": null,
   "metadata": {
    "tags": []
   },
   "outputs": [],
   "source": [
    "merged.describe()"
   ]
  },
  {
   "cell_type": "code",
   "execution_count": null,
   "metadata": {
    "tags": []
   },
   "outputs": [],
   "source": [
    "#Generating measures\n",
    "merged['Homicide per capita'] = (merged['Homicide Rate'] / merged['Population']) * 100000\n",
    "merged['Homicide per emissions'] = merged['Homicide Rate'] / merged['Total Emissions']\n",
    "merged['GDP'] = merged['GDP per capita'] * merged['Population']\n",
    "merged['Energy Production to Consumption'] = merged['Energy Production Total'] / merged['Energy Consumption Total']"
   ]
  },
  {
   "cell_type": "code",
   "execution_count": null,
   "metadata": {
    "tags": []
   },
   "outputs": [],
   "source": [
    "merged[:25]"
   ]
  },
  {
   "cell_type": "code",
   "execution_count": null,
   "metadata": {
    "tags": []
   },
   "outputs": [],
   "source": [
    "# replacing any missing values / infinities with 0\n",
    "merged = merged.replace(np.nan, 0)\n",
    "merged = merged.fillna(0)\n",
    "merged['Homicide per emissions'].replace([np.inf, -np.inf], 0, inplace=True)"
   ]
  },
  {
   "cell_type": "code",
   "execution_count": null,
   "metadata": {
    "tags": []
   },
   "outputs": [],
   "source": [
    "merged.sum()"
   ]
  },
  {
   "cell_type": "code",
   "execution_count": null,
   "metadata": {
    "tags": []
   },
   "outputs": [],
   "source": [
    "merged.dtypes"
   ]
  },
  {
   "cell_type": "code",
   "execution_count": null,
   "metadata": {},
   "outputs": [],
   "source": [
    "# exporting all data to csv\n",
    "merged.to_csv(\"~/Desktop/datascience/phase2/CSI4142-Project/out.csv\", index=False)"
   ]
  }
 ],
 "metadata": {
  "kernelspec": {
   "display_name": "Python 3 (ipykernel)",
   "language": "python",
   "name": "python3"
  },
  "language_info": {
   "codemirror_mode": {
    "name": "ipython",
    "version": 3
   },
   "file_extension": ".py",
   "mimetype": "text/x-python",
   "name": "python",
   "nbconvert_exporter": "python",
   "pygments_lexer": "ipython3",
   "version": "3.10.0"
  }
 },
 "nbformat": 4,
 "nbformat_minor": 4
}
